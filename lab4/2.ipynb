{
 "cells": [
  {
   "cell_type": "code",
   "execution_count": 57,
   "metadata": {},
   "outputs": [],
   "source": [
    "import os\n",
    "import struct\n",
    "import numpy as np\n",
    "import intvalpy as ip\n",
    "import matplotlib.pyplot as plt\n",
    "from functools import cmp_to_key\n",
    "from pathlib import Path\n",
    "from scipy.stats import linregress\n",
    "from tqdm import tqdm"
   ]
  },
  {
   "cell_type": "code",
   "execution_count": 58,
   "metadata": {},
   "outputs": [],
   "source": [
    "def read_bin_file_with_numpy(file_path):\n",
    "  with open(file_path, 'rb') as f:\n",
    "    header_data = f.read(256)\n",
    "    side, mode, frame_count = struct.unpack('<BBH', header_data[:4])\n",
    "\n",
    "    frames = []\n",
    "    point_dtype = np.dtype('<8H')\n",
    "\n",
    "    for _ in range(frame_count):\n",
    "      frame_header_data = f.read(16)\n",
    "      stop_point, timestamp = struct.unpack('<HL', frame_header_data[:6])\n",
    "      frame_data = np.frombuffer(f.read(1024 * 16), dtype=point_dtype)\n",
    "      frames.append(frame_data)\n",
    "\n",
    "    return np.array(frames)"
   ]
  },
  {
   "cell_type": "code",
   "execution_count": 59,
   "metadata": {},
   "outputs": [],
   "source": [
    "def convert_to_voltage(data):\n",
    "  return data / 16384.0 - 0.5"
   ]
  },
  {
   "cell_type": "code",
   "execution_count": 60,
   "metadata": {},
   "outputs": [],
   "source": [
    "def scalar_to_interval(x, rad):\n",
    "  return ip.Interval(x - rad, x + rad)\n",
    "scalar_to_interval_vec = np.vectorize(scalar_to_interval)"
   ]
  },
  {
   "cell_type": "code",
   "execution_count": 61,
   "metadata": {},
   "outputs": [],
   "source": [
    "def get_iqr(x):\n",
    "  q1 = np.percentile(x, 25, axis=0)\n",
    "  q3 = np.percentile(x, 75, axis=0)\n",
    "  return q1, q3"
   ]
  },
  {
   "cell_type": "code",
   "execution_count": 62,
   "metadata": {},
   "outputs": [],
   "source": [
    "def get_box_plot(x):\n",
    "  q1 = np.percentile(x, 25, axis=0)\n",
    "  q3 = np.percentile(x, 75, axis=0)\n",
    "  iqr = q3 - q1\n",
    "  lower_bound = q1 - 1.5 * iqr\n",
    "  upper_bound = q3 + 1.5 * iqr\n",
    "  return lower_bound, upper_bound"
   ]
  },
  {
   "cell_type": "code",
   "execution_count": 63,
   "metadata": {},
   "outputs": [],
   "source": [
    "def intersect_intervals(intervals):\n",
    "  if len(intervals) == 0:\n",
    "    return ip.Interval(np.nan, np.nan)\n",
    "\n",
    "  result = intervals[0]\n",
    "\n",
    "  if len(intervals) == 1:\n",
    "    return result\n",
    "\n",
    "  for interval in intervals:\n",
    "    result = ip.intersection(result, interval)\n",
    "\n",
    "  return result"
   ]
  },
  {
   "cell_type": "code",
   "execution_count": 64,
   "metadata": {},
   "outputs": [],
   "source": [
    "def are_intersected(x, y):\n",
    "  sup = y.a if x.a < y.a else x.a\n",
    "  inf = x.b if x.b < y.b else y.b\n",
    "  return sup - inf <= 1e-15"
   ]
  },
  {
   "cell_type": "code",
   "execution_count": 65,
   "metadata": {},
   "outputs": [],
   "source": [
    "def are_adjusted_to_each_other(x, y):\n",
    "  return x.b == y.a or y.b == x.a"
   ]
  },
  {
   "cell_type": "code",
   "execution_count": 66,
   "metadata": {},
   "outputs": [],
   "source": [
    "def merge_intervals(x, y):\n",
    "  return ip.Interval(min(x.a, y.a), max(x.b, y.b))"
   ]
  },
  {
   "cell_type": "code",
   "execution_count": 67,
   "metadata": {},
   "outputs": [],
   "source": [
    "def mode(x):\n",
    "  if len(x) == 0:\n",
    "    return []\n",
    "\n",
    "  edges = sorted({x_i.a for x_i in x}.union({x_i.b for x_i in x}))\n",
    "  z = [ip.Interval(edges[i], edges[i + 1]) for i in range(len(edges) - 1)]\n",
    "  mu = [sum(1 for x_i in x if z_i in x_i) for z_i in z]\n",
    "\n",
    "  max_mu = max(mu)\n",
    "  K = [index for index, element in enumerate(mu) if element == max_mu]\n",
    "\n",
    "  m = [z[k] for k in K]\n",
    "  merged_m = []\n",
    "\n",
    "  current_interval = m[0]\n",
    "\n",
    "  for next_interval in m[1:]:\n",
    "    if are_intersected(current_interval, next_interval) or are_adjusted_to_each_other(current_interval, next_interval):\n",
    "      current_interval = merge_intervals(current_interval, next_interval)\n",
    "    else:\n",
    "      merged_m.append(current_interval)\n",
    "      current_interval = next_interval\n",
    "\n",
    "  merged_m.append(current_interval)\n",
    "\n",
    "  return merged_m"
   ]
  },
  {
   "cell_type": "code",
   "execution_count": 68,
   "metadata": {},
   "outputs": [],
   "source": [
    "def med_k(x):\n",
    "  starts = [float(interval.a) for interval in x]\n",
    "  ends = [float(interval.b) for interval in x]\n",
    "  return ip.Interval(np.median(starts), np.median(ends))"
   ]
  },
  {
   "cell_type": "code",
   "execution_count": 69,
   "metadata": {},
   "outputs": [
    {
     "data": {
      "text/plain": [
       "[PosixPath('data/-0.027_lvl_side_a_fast_data.bin'),\n",
       " PosixPath('data/-0.205_lvl_side_a_fast_data.bin'),\n",
       " PosixPath('data/-0.471_lvl_side_a_fast_data.bin'),\n",
       " PosixPath('data/-0.492_lvl_side_a_fast_data.bin'),\n",
       " PosixPath('data/0.061_lvl_side_a_fast_data.bin'),\n",
       " PosixPath('data/0.225_lvl_side_a_fast_data.bin'),\n",
       " PosixPath('data/0.43_lvl_side_a_fast_data.bin'),\n",
       " PosixPath('data/0_lvl_side_a_fast_data_last.bin')]"
      ]
     },
     "execution_count": 69,
     "metadata": {},
     "output_type": "execute_result"
    }
   ],
   "source": [
    "data_folder = Path('data')\n",
    "files = sorted([data_folder / f for f in os.listdir(data_folder) if f.endswith('.bin')])\n",
    "files"
   ]
  },
  {
   "cell_type": "code",
   "execution_count": 70,
   "metadata": {},
   "outputs": [],
   "source": [
    "estimation_functions = [\n",
    "  ('IQR', get_iqr),\n",
    "  ('Box plot', get_box_plot),\n",
    "]"
   ]
  },
  {
   "cell_type": "code",
   "execution_count": 72,
   "metadata": {},
   "outputs": [
    {
     "name": "stderr",
     "output_type": "stream",
     "text": [
      "IQR: 100%|██████████| 8192/8192 [01:03<00:00, 128.60it/s]\n"
     ]
    },
    {
     "name": "stdout",
     "output_type": "stream",
     "text": [
      "Intersection:  '[nan, nan]' '[nan, nan]'\n",
      "Med_k:  '[8027.87, 8192.17]' '[12853.4, 13293.1]'\n",
      "Mode:  ['[8086.35, 8086.42]', '[8086.42, 8086.43]', '[8086.46, 8086.47]', '[8086.88, 8086.88]'] ['[13070.5, 13072.5]']\n"
     ]
    },
    {
     "name": "stderr",
     "output_type": "stream",
     "text": [
      "Box plot: 100%|██████████| 8192/8192 [01:03<00:00, 128.17it/s]\n"
     ]
    },
    {
     "name": "stdout",
     "output_type": "stream",
     "text": [
      "Intersection:  '[7927.51, 8224.58]' '[13097.9, 13573.8]'\n",
      "Med_k:  '[7779.14, 8431.57]' '[12189.2, 13954.1]'\n",
      "Mode:  ['[7927.51, 8224.58]'] ['[13097.9, 13573.8]']\n"
     ]
    }
   ],
   "source": [
    "rad = 2 ** -14\n",
    "\n",
    "for estimation_name, estimation_f in estimation_functions:\n",
    "  beta_0s = []\n",
    "  beta_1s = []\n",
    "\n",
    "  px_num = 1024 * 8\n",
    "\n",
    "  for px_index in tqdm(range(px_num), desc=estimation_name):\n",
    "    A = []\n",
    "    b = []\n",
    "\n",
    "    for file_path in files:\n",
    "      x = float(file_path.name.split('_')[0])\n",
    "      frames = read_bin_file_with_numpy(file_path)\n",
    "      ys = []\n",
    "\n",
    "      for frame in frames:\n",
    "        px = frame.flatten()[px_index]\n",
    "        ys.append(px)\n",
    "\n",
    "      y = estimation_f(ys)\n",
    "\n",
    "      A.append([[x - rad, x + rad], [1 - rad, 1 + rad]])\n",
    "      b.append(y)\n",
    "\n",
    "    A = ip.Interval(A)\n",
    "    b = ip.Interval(b)\n",
    "\n",
    "    x = ip.linear.Rohn(A, b)\n",
    "    beta_0s.append(x[1])\n",
    "    beta_1s.append(x[0])\n",
    "\n",
    "  beta_0_intersected = intersect_intervals(beta_0s)\n",
    "  beta_1_intersected = intersect_intervals(beta_1s)\n",
    "  print('Intersection: ', beta_0_intersected, beta_1_intersected)\n",
    "\n",
    "  beta_0_med_k = med_k(beta_0s)\n",
    "  beta_1_med_k = med_k(beta_1s)\n",
    "  print('Med_k: ', beta_0_med_k, beta_1_med_k)\n",
    "\n",
    "  beta_0_mode = mode(beta_0s)\n",
    "  beta_1_mode = mode(beta_1s)\n",
    "  print('Mode: ', beta_0_mode, beta_1_mode)"
   ]
  },
  {
   "cell_type": "code",
   "execution_count": 1,
   "metadata": {
    "ExecuteTime": {
     "end_time": "2024-12-06T17:26:17.774573600Z",
     "start_time": "2024-12-06T17:26:17.472094200Z"
    }
   },
   "outputs": [
    {
     "ename": "NameError",
     "evalue": "name 'ip' is not defined",
     "output_type": "error",
     "traceback": [
      "\u001B[1;31m---------------------------------------------------------------------------\u001B[0m",
      "\u001B[1;31mNameError\u001B[0m                                 Traceback (most recent call last)",
      "Cell \u001B[1;32mIn[1], line 1\u001B[0m\n\u001B[1;32m----> 1\u001B[0m beta_0_int \u001B[38;5;241m=\u001B[39m \u001B[43mip\u001B[49m\u001B[38;5;241m.\u001B[39mInterval(\u001B[38;5;241m8086.35\u001B[39m, \u001B[38;5;241m8086.88\u001B[39m)\n\u001B[0;32m      2\u001B[0m beta_1_int \u001B[38;5;241m=\u001B[39m ip\u001B[38;5;241m.\u001B[39mInterval(\u001B[38;5;241m13070.5\u001B[39m, \u001B[38;5;241m13072.5\u001B[39m)\n\u001B[0;32m      4\u001B[0m beta_0_ext \u001B[38;5;241m=\u001B[39m ip\u001B[38;5;241m.\u001B[39mInterval(\u001B[38;5;241m7927.51\u001B[39m, \u001B[38;5;241m8224.58\u001B[39m)\n",
      "\u001B[1;31mNameError\u001B[0m: name 'ip' is not defined"
     ]
    }
   ],
   "source": [
    "beta_0_int = ip.Interval(8086.35, 8086.88)\n",
    "beta_1_int = ip.Interval(13070.5, 13072.5)\n",
    "\n",
    "beta_0_ext = ip.Interval(7927.51, 8224.58)\n",
    "beta_1_ext = ip.Interval(13097.9, 13573.8)\n",
    "\n",
    "xs = np.array([float(file_path.name.split('_')[0]) for file_path in files])\n",
    "xs_continuous = np.linspace(xs.min(), xs.max(), 100)\n",
    "\n",
    "for (beta_0, beta_1) in ((beta_0_int, beta_1_int), (beta_0_ext, beta_1_ext)):\n",
    "  ys = beta_0 + beta_1 * xs_continuous\n",
    "  ys_a = np.array([float(interval.a) for interval in ys])\n",
    "  ys_b = np.array([float(interval.b) for interval in ys])\n",
    "\n",
    "  plt.figure(figsize=(8, 6))\n",
    "  plt.fill_between(xs_continuous, ys_a, ys_b, alpha=0.3)\n",
    "  plt.plot(xs_continuous, ys_a, color='red', linewidth=0.5)\n",
    "  plt.plot(xs_continuous, ys_b, color='red', linewidth=0.5)\n",
    "  plt.plot(xs_continuous, (ys_a + ys_b) / 2, color='red', linewidth=0.5)\n",
    "  plt.xlabel('x')\n",
    "  plt.ylabel('y')\n",
    "  plt.show()"
   ]
  },
  {
   "cell_type": "code",
   "execution_count": null,
   "outputs": [],
   "source": [],
   "metadata": {
    "collapsed": false
   }
  }
 ],
 "metadata": {
  "kernelspec": {
   "display_name": "base",
   "language": "python",
   "name": "python3"
  },
  "language_info": {
   "codemirror_mode": {
    "name": "ipython",
    "version": 3
   },
   "file_extension": ".py",
   "mimetype": "text/x-python",
   "name": "python",
   "nbconvert_exporter": "python",
   "pygments_lexer": "ipython3",
   "version": "3.12.2"
  }
 },
 "nbformat": 4,
 "nbformat_minor": 2
}
