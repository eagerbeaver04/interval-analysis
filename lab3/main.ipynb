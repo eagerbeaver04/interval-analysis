{
 "cells": [
  {
   "cell_type": "code",
   "execution_count": 188,
   "id": "initial_id",
   "metadata": {
    "collapsed": true,
    "ExecuteTime": {
     "end_time": "2024-12-03T18:59:17.091261Z",
     "start_time": "2024-12-03T18:59:16.575951900Z"
    }
   },
   "outputs": [],
   "source": [
    "import struct\n",
    "import numpy as np\n",
    "import intvalpy as ip\n",
    "from functools import cmp_to_key\n",
    "import matplotlib.pyplot as plt"
   ]
  },
  {
   "cell_type": "code",
   "execution_count": 189,
   "outputs": [],
   "source": [
    "def read_bin_file_with_numpy(file_path):\n",
    "    with open(file_path, 'rb') as f:\n",
    "        header_data = f.read(256)\n",
    "        side, mode, frame_count = struct.unpack('<BBH', header_data[:4])\n",
    "\n",
    "        frames = []\n",
    "        point_dtype = np.dtype('<8H')\n",
    "\n",
    "        for _ in range(frame_count):\n",
    "            frame_header_data = f.read(16)\n",
    "            stop_point, timestamp = struct.unpack('<HL', frame_header_data[:6])\n",
    "            frame_data = np.frombuffer(f.read(1024 * 16), dtype=point_dtype)\n",
    "            frames.append(frame_data)\n",
    "\n",
    "        return np.array(frames)"
   ],
   "metadata": {
    "collapsed": false,
    "ExecuteTime": {
     "end_time": "2024-12-03T18:59:17.308977400Z",
     "start_time": "2024-12-03T18:59:16.582624800Z"
    }
   },
   "id": "2fa3ce8fb2472299"
  },
  {
   "cell_type": "code",
   "execution_count": 190,
   "outputs": [],
   "source": [
    "def convert_to_voltage(data):\n",
    "    return data / 16384.0 - 0.5\n",
    "\n",
    "\n",
    "def are_intersected(x, y):\n",
    "    sup = y.a if x.a < y.a else x.a\n",
    "    inf = x.b if x.b < y.b else y.b\n",
    "    return sup - inf <= 1e-15\n",
    "\n",
    "\n",
    "def are_adjusted_to_each_other(x, y):\n",
    "    return x.b == y.a or y.b == x.a\n",
    "\n",
    "\n",
    "def merge_intervals(x, y):\n",
    "    return ip.Interval(min(x.a, y.a), max(x.b, y.b))"
   ],
   "metadata": {
    "collapsed": false,
    "ExecuteTime": {
     "end_time": "2024-12-03T18:59:17.308977400Z",
     "start_time": "2024-12-03T18:59:16.590125200Z"
    }
   },
   "id": "d3ff9210ddbbca3d"
  },
  {
   "cell_type": "code",
   "execution_count": 191,
   "outputs": [],
   "source": [
    "def mode(x):\n",
    "    if len(x) == 0:\n",
    "        return []\n",
    "\n",
    "    edges = set()\n",
    "    for x_i in x:\n",
    "        edges.add(x_i.a)\n",
    "        edges.add(x_i.b)\n",
    "    edges = sorted(list(edges))\n",
    "\n",
    "    z = []\n",
    "    for index, a in enumerate(edges):\n",
    "        b = a if index == len(edges) - 1 else edges[index + 1]\n",
    "        z.append(ip.Interval(a, b))\n",
    "\n",
    "    mu = []\n",
    "    for z_i in z:\n",
    "        mu_i = 0\n",
    "        for x_i in x:\n",
    "            if z_i in x_i:\n",
    "                mu_i += 1\n",
    "        mu.append(mu_i)\n",
    "\n",
    "    max_mu = max(mu)\n",
    "    K = [index for index, element in enumerate(mu) if element == max_mu]\n",
    "\n",
    "    m = [z[k] for k in K]\n",
    "    merged_m = []\n",
    "\n",
    "    current_interval = m[0]\n",
    "\n",
    "    for next_interval in m[1:]:\n",
    "        if are_intersected(current_interval, next_interval) or are_adjusted_to_each_other(current_interval,\n",
    "                                                                                          next_interval):\n",
    "            current_interval = merge_intervals(current_interval, next_interval)\n",
    "        else:\n",
    "            merged_m.append(current_interval)\n",
    "            current_interval = next_interval\n",
    "\n",
    "    merged_m.append(current_interval)\n",
    "\n",
    "    if len(merged_m) == 1:\n",
    "        return merged_m[0]\n",
    "\n",
    "    return merged_m"
   ],
   "metadata": {
    "collapsed": false,
    "ExecuteTime": {
     "end_time": "2024-12-03T18:59:17.445130700Z",
     "start_time": "2024-12-03T18:59:16.598708300Z"
    }
   },
   "id": "90343d6b49766306"
  },
  {
   "cell_type": "code",
   "execution_count": 192,
   "outputs": [],
   "source": [
    "def med_k(x):\n",
    "    starts = [float(interval.a) for interval in x]\n",
    "    ends = [float(interval.b) for interval in x]\n",
    "    return ip.Interval(np.median(starts), np.median(ends))\n",
    "\n",
    "\n",
    "def med_p(x):\n",
    "    x = sorted(x, key=cmp_to_key(lambda x, y: (x.a + x.b) / 2 - (y.a + y.b) / 2))\n",
    "    mid = len(x) // 2\n",
    "\n",
    "    if len(x) % 2 == 0:\n",
    "        return (x[mid - 1] + x[mid]) / 2\n",
    "\n",
    "    return x[mid]"
   ],
   "metadata": {
    "collapsed": false,
    "ExecuteTime": {
     "end_time": "2024-12-03T18:59:17.556452300Z",
     "start_time": "2024-12-03T18:59:16.608621600Z"
    }
   },
   "id": "b18e834b82ec2478"
  },
  {
   "cell_type": "code",
   "execution_count": 193,
   "outputs": [],
   "source": [
    "def jaccard_sequence_index(x, y):\n",
    "    results = []\n",
    "\n",
    "    for x_i, y_i in zip(x, y):\n",
    "        result = (min(x_i.b, y_i.b) - max(x_i.a, y_i.a)) / (max(x_i.b, y_i.b) - min(x_i.a, y_i.a))\n",
    "        results.append(result)\n",
    "\n",
    "    return np.array(results)\n",
    "\n",
    "\n",
    "def jaccard_index(x, y):\n",
    "    return (min(x.b, y.b) - max(x.a, y.a)) / (max(x.b, y.b) - min(x.a, y.a))"
   ],
   "metadata": {
    "collapsed": false,
    "ExecuteTime": {
     "end_time": "2024-12-03T18:59:17.678216300Z",
     "start_time": "2024-12-03T18:59:16.615980900Z"
    }
   },
   "id": "44b69c411585ff55"
  },
  {
   "cell_type": "code",
   "execution_count": 194,
   "outputs": [],
   "source": [
    "def scalar_to_interval(x, rad):\n",
    "    return ip.Interval(x - rad, x + rad)\n",
    "\n",
    "\n",
    "def med(x):\n",
    "    return float((x.a + x.b) / 2)"
   ],
   "metadata": {
    "collapsed": false,
    "ExecuteTime": {
     "end_time": "2024-12-03T18:59:17.704227100Z",
     "start_time": "2024-12-03T18:59:16.616978400Z"
    }
   },
   "id": "35ffa8f9918031bb"
  },
  {
   "cell_type": "code",
   "execution_count": 195,
   "outputs": [],
   "source": [
    "scalar_to_interval_vec = np.vectorize(scalar_to_interval)\n",
    "x_data = read_bin_file_with_numpy('-0.205_lvl_side_a_fast_data.bin')\n",
    "y_data = read_bin_file_with_numpy('0.225_lvl_side_a_fast_data.bin')"
   ],
   "metadata": {
    "collapsed": false,
    "ExecuteTime": {
     "end_time": "2024-12-03T18:59:17.944181300Z",
     "start_time": "2024-12-03T18:59:16.625689400Z"
    }
   },
   "id": "9afd133dde7d4f65"
  },
  {
   "cell_type": "code",
   "execution_count": 196,
   "outputs": [],
   "source": [
    "x_voltage = convert_to_voltage(x_data)\n",
    "y_voltage = convert_to_voltage(y_data)"
   ],
   "metadata": {
    "collapsed": false,
    "ExecuteTime": {
     "end_time": "2024-12-03T18:59:17.945187500Z",
     "start_time": "2024-12-03T18:59:16.647633700Z"
    }
   },
   "id": "3ba78efee8744aa7"
  },
  {
   "cell_type": "code",
   "execution_count": 197,
   "outputs": [],
   "source": [
    "N = -14\n",
    "rad = 2 ** N\n",
    "\n",
    "x_voltage_int = scalar_to_interval_vec(x_voltage, rad)\n",
    "y_voltage_int = scalar_to_interval_vec(y_voltage, rad)"
   ],
   "metadata": {
    "collapsed": false,
    "ExecuteTime": {
     "end_time": "2024-12-03T18:59:51.055621900Z",
     "start_time": "2024-12-03T18:59:16.660326600Z"
    }
   },
   "id": "b9d0661fff7a72e6"
  },
  {
   "cell_type": "code",
   "execution_count": 198,
   "outputs": [],
   "source": [
    "# x_voltage_int_flatten = x_voltage_int.flatten()\n",
    "# y_voltage_int_flatten = y_voltage_int.flatten()\n",
    "x_voltage_int_flatten = x_voltage_int[0].flatten()\n",
    "y_voltage_int_flatten = y_voltage_int[0].flatten()"
   ],
   "metadata": {
    "collapsed": false,
    "ExecuteTime": {
     "end_time": "2024-12-03T18:59:51.088549800Z",
     "start_time": "2024-12-03T18:59:51.058618300Z"
    }
   },
   "id": "f6bf5a52f186530b"
  },
  {
   "cell_type": "markdown",
   "source": [
    "# a + X = Y"
   ],
   "metadata": {
    "collapsed": false
   },
   "id": "4879db142bb5dee9"
  },
  {
   "cell_type": "code",
   "execution_count": 254,
   "outputs": [
    {
     "name": "stdout",
     "output_type": "stream",
     "text": [
      "['[0.284851, 0.285095]', '[0.402954, 0.403198]']\n",
      "[0.28497314453125, 0.403076171875]\n"
     ]
    }
   ],
   "source": [
    "a_bounds = [min(y_voltage_int_flatten, key=lambda x: med(x)) - max(x_voltage_int_flatten, key=lambda x: med(x)),\n",
    "           max(y_voltage_int_flatten, key=lambda x: med(x)) - min(x_voltage_int_flatten, key=lambda x: med(x))]\n",
    "print(a_bounds)\n",
    "a_bounds.sort()\n",
    "a_bounds = [med(interval) for interval in a_bounds]\n",
    "print(a_bounds)"
   ],
   "metadata": {
    "collapsed": false,
    "ExecuteTime": {
     "end_time": "2024-12-03T19:42:18.542938700Z",
     "start_time": "2024-12-03T19:42:18.481186200Z"
    }
   },
   "id": "7ce8057f9a6fb25d"
  },
  {
   "cell_type": "code",
   "execution_count": 200,
   "outputs": [],
   "source": [
    "iters = 70"
   ],
   "metadata": {
    "collapsed": false,
    "ExecuteTime": {
     "end_time": "2024-12-03T18:59:51.177063100Z",
     "start_time": "2024-12-03T18:59:51.173066Z"
    }
   },
   "id": "f33e14ecb4debd14"
  },
  {
   "cell_type": "code",
   "execution_count": 201,
   "outputs": [
    {
     "name": "stdout",
     "output_type": "stream",
     "text": [
      "step: 0.0016871861049107143\n"
     ]
    }
   ],
   "source": [
    "a = np.linspace(a_bounds[0], a_bounds[1], iters)\n",
    "print(f\"step: {np.abs(a_bounds[1] - a_bounds[0]) / iters}\")"
   ],
   "metadata": {
    "collapsed": false,
    "ExecuteTime": {
     "end_time": "2024-12-03T18:59:51.206118100Z",
     "start_time": "2024-12-03T18:59:51.179061400Z"
    }
   },
   "id": "bc6447e4e9bffac5"
  },
  {
   "cell_type": "code",
   "execution_count": 202,
   "outputs": [
    {
     "name": "stdout",
     "output_type": "stream",
     "text": [
      "(8192,)\n",
      "(8192,)\n"
     ]
    }
   ],
   "source": [
    "print(x_voltage_int_flatten.shape)\n",
    "print(y_voltage_int_flatten.shape)\n",
    "unprocessed_data = []\n",
    "def estimate(a_val):\n",
    "    # vec = np.array(jaccard_sequence_index(x_voltage_int_flatten + a_val, y_voltage_int_flatten))\n",
    "    # vec += 1 # [-1,1] -> [0,2]\n",
    "    # vec /= 2 # [0,2] -> [0,1]\n",
    "    # return np.linalg.norm(vec)\n",
    "    return np.mean(jaccard_sequence_index(x_voltage_int_flatten + a_val, y_voltage_int_flatten))\n",
    "vec_estimate = np.vectorize(estimate)\n",
    "\n",
    "data = vec_estimate(a)"
   ],
   "metadata": {
    "collapsed": false,
    "ExecuteTime": {
     "end_time": "2024-12-03T19:00:03.811301300Z",
     "start_time": "2024-12-03T18:59:51.186115300Z"
    }
   },
   "id": "ba788e9139ea360b"
  },
  {
   "cell_type": "code",
   "execution_count": 203,
   "outputs": [
    {
     "data": {
      "text/plain": "[<matplotlib.lines.Line2D at 0x2b3ea6be7b0>]"
     },
     "execution_count": 203,
     "metadata": {},
     "output_type": "execute_result"
    },
    {
     "data": {
      "text/plain": "<Figure size 640x480 with 1 Axes>",
      "image/png": "[encoded data removed]"
     },
     "metadata": {},
     "output_type": "display_data"
    }
   ],
   "source": [
    "plt.plot(a, data)"
   ],
   "metadata": {
    "collapsed": false,
    "ExecuteTime": {
     "end_time": "2024-12-03T19:00:03.925471100Z",
     "start_time": "2024-12-03T19:00:03.813300200Z"
    }
   },
   "id": "4dc12783ea94d6f5"
  },
  {
   "cell_type": "code",
   "execution_count": 204,
   "outputs": [
    {
     "name": "stdout",
     "output_type": "stream",
     "text": [
      "34\n",
      "0.34316883916440216\n"
     ]
    }
   ],
   "source": [
    "print(np.argmax(data))\n",
    "print(a[np.argmax(data)])"
   ],
   "metadata": {
    "collapsed": false,
    "ExecuteTime": {
     "end_time": "2024-12-03T19:00:03.931469500Z",
     "start_time": "2024-12-03T19:00:03.925471100Z"
    }
   },
   "id": "a38d8a765a98cdd1"
  },
  {
   "cell_type": "code",
   "execution_count": 205,
   "outputs": [],
   "source": [
    "def estimate_mod(a_val):\n",
    "    return jaccard_index(mode(x_voltage_int_flatten + a_val), mode(y_voltage_int_flatten))\n",
    "def estimate_med_p(a_val):\n",
    "    return jaccard_index(med_p  я(x_voltage_int_flatten + a_val), med_p(y_voltage_int_flatten))\n",
    "def estimate_med_k(a_val):\n",
    "    return jaccard_index(med_k(x_voltage_int_flatten + a_val), med_k(y_voltage_int_flatten))"
   ],
   "metadata": {
    "collapsed": false,
    "ExecuteTime": {
     "end_time": "2024-12-03T19:00:03.956757900Z",
     "start_time": "2024-12-03T19:00:03.931469500Z"
    }
   },
   "id": "5c56157d03cfa6cc"
  },
  {
   "cell_type": "code",
   "execution_count": 206,
   "outputs": [],
   "source": [
    "vec_estimate_mod = np.vectorize(estimate_mod)\n",
    "vec_estimate_med_p = np.vectorize(estimate_med_p)\n",
    "vec_estimate_med_k = np.vectorize(estimate_med_k)"
   ],
   "metadata": {
    "collapsed": false,
    "ExecuteTime": {
     "end_time": "2024-12-03T19:00:03.956757900Z",
     "start_time": "2024-12-03T19:00:03.937208900Z"
    }
   },
   "id": "b6f1afdae08cdced"
  },
  {
   "cell_type": "code",
   "execution_count": 207,
   "outputs": [],
   "source": [
    "data_med_p = vec_estimate_med_p(a)\n",
    "data_med_k = vec_estimate_med_k(a)"
   ],
   "metadata": {
    "collapsed": false,
    "ExecuteTime": {
     "end_time": "2024-12-03T19:01:48.257427400Z",
     "start_time": "2024-12-03T19:00:03.942229400Z"
    }
   },
   "id": "e146e61f1da33555"
  },
  {
   "cell_type": "markdown",
   "source": [
    "### Интерполированные данные"
   ],
   "metadata": {
    "collapsed": false
   },
   "id": "cbfe44734b7c26c0"
  },
  {
   "cell_type": "code",
   "execution_count": 208,
   "outputs": [],
   "source": [
    "from scipy.interpolate import interp1d\n",
    "data = np.array([float(item) for item in data])\n",
    "data_med_k = np.array([float(item) for item in data_med_k])\n",
    "data_med_p = np.array([float(item) for item in data_med_p])"
   ],
   "metadata": {
    "collapsed": false,
    "ExecuteTime": {
     "end_time": "2024-12-03T19:01:48.281637400Z",
     "start_time": "2024-12-03T19:01:48.258425Z"
    }
   },
   "id": "2b124ad5bd6f61ab"
  },
  {
   "cell_type": "code",
   "execution_count": 209,
   "outputs": [],
   "source": [
    "def process_data(point_data, a_data):\n",
    "    max_idx = np.argmax(point_data)\n",
    "    min_idx = np.argmin(point_data)\n",
    "    print(f\"max y: {point_data[max_idx]}\")\n",
    "    print(f\"min y: {point_data[min_idx]}\")\n",
    "    print(f\"a: {a_data[max_idx]}\")\n",
    "    f1 = interp1d(np.array(point_data[0:max_idx + 1]), np.array(a_data[0:max_idx + 1]), kind = 'linear')\n",
    "    f2 = interp1d(np.array(point_data[max_idx:]), np.array(a_data[max_idx:]), kind = 'linear')\n",
    "    \n",
    "    plt.plot(a_data, point_data)\n",
    "    internal_dot = (3 * point_data[max_idx] + point_data[min_idx])/ 4\n",
    "    print(f\"internal: {internal_dot}, x=[{f1(internal_dot)},{f2(internal_dot)}]\")\n",
    "    external_dot = (point_data[max_idx] + 3 * point_data[min_idx])/ 4\n",
    "    print(f\"external: {external_dot}, x=[{f1(external_dot)},{f2(external_dot)}]\")\n",
    "    plt.hlines(internal_dot, f1(internal_dot), f2(internal_dot), linestyles = 'dashed', label = 'internal', colors = 'green')\n",
    "    plt.hlines(external_dot, f1(external_dot), f2(external_dot), linestyles = 'dashed', label = 'external', colors = 'red')\n",
    "    plt.legend()"
   ],
   "metadata": {
    "collapsed": false,
    "ExecuteTime": {
     "end_time": "2024-12-03T19:01:48.281637400Z",
     "start_time": "2024-12-03T19:01:48.266943700Z"
    }
   },
   "id": "e0048cb95c909f11"
  },
  {
   "cell_type": "code",
   "execution_count": 210,
   "outputs": [
    {
     "name": "stdout",
     "output_type": "stream",
     "text": [
      "max y: -0.9220330535320916\n",
      "min y: -0.9957121041227782\n",
      "a: 0.34316883916440216\n",
      "internal: -0.9404528161797633, x=[0.332771709970149,0.3526741687174664]\n",
      "external: -0.9772923414751066, x=[0.32198839592912515,0.3660894096878732]\n"
     ]
    },
    {
     "data": {
      "text/plain": "<Figure size 640x480 with 1 Axes>",
      "image/png": "[encoded data removed]"
     },
     "metadata": {},
     "output_type": "display_data"
    }
   ],
   "source": [
    "process_data(data, a)"
   ],
   "metadata": {
    "collapsed": false,
    "ExecuteTime": {
     "end_time": "2024-12-03T19:01:48.409289200Z",
     "start_time": "2024-12-03T19:01:48.271941900Z"
    }
   },
   "id": "9f5f03930315a690"
  },
  {
   "cell_type": "code",
   "execution_count": 211,
   "outputs": [
    {
     "name": "stdout",
     "output_type": "stream",
     "text": [
      "max y: -0.5799086757990954\n",
      "min y: -0.9959016393442623\n",
      "a: 0.34316883916440216\n",
      "internal: -0.6839069166853872, x=[0.3426012315040533,0.3439029350526994]\n",
      "external: -0.8919033984579706, x=[0.34146601618335565,0.34608834256052484]\n"
     ]
    },
    {
     "data": {
      "text/plain": "<Figure size 640x480 with 1 Axes>",
      "image/png": "[encoded data removed]"
     },
     "metadata": {},
     "output_type": "display_data"
    }
   ],
   "source": [
    "process_data(data_med_k, a)"
   ],
   "metadata": {
    "collapsed": false,
    "ExecuteTime": {
     "end_time": "2024-12-03T19:01:48.543753500Z",
     "start_time": "2024-12-03T19:01:48.409289200Z"
    }
   },
   "id": "9369ba9e5dc4791b"
  },
  {
   "cell_type": "code",
   "execution_count": 212,
   "outputs": [
    {
     "name": "stdout",
     "output_type": "stream",
     "text": [
      "max y: -0.5799086757990968\n",
      "min y: -0.9959016393442623\n",
      "a: 0.34316883916440216\n",
      "internal: -0.6839069166853882, x=[0.3426012315040533,0.3439029350526994]\n",
      "external: -0.891903398457971, x=[0.34146601618335565,0.34608834256052484]\n"
     ]
    },
    {
     "data": {
      "text/plain": "<Figure size 640x480 with 1 Axes>",
      "image/png": "[encoded data removed]"
     },
     "metadata": {},
     "output_type": "display_data"
    }
   ],
   "source": [
    "process_data(data_med_p, a)"
   ],
   "metadata": {
    "collapsed": false,
    "ExecuteTime": {
     "end_time": "2024-12-03T19:01:48.688409Z",
     "start_time": "2024-12-03T19:01:48.535703900Z"
    }
   },
   "id": "4a69a563bef07507"
  },
  {
   "cell_type": "code",
   "execution_count": null,
   "outputs": [],
   "source": [
    "data_mod = vec_estimate_mod(a)\n",
    "data_mod = np.array([float(item) for item in data_mod])"
   ],
   "metadata": {
    "collapsed": false,
    "is_executing": true,
    "ExecuteTime": {
     "start_time": "2024-12-03T21:01:17.442726900Z"
    }
   },
   "id": "a20cede86dc0e9e6"
  },
  {
   "cell_type": "code",
   "execution_count": null,
   "outputs": [],
   "source": [
    "process_data(data_mod, a)"
   ],
   "metadata": {
    "collapsed": false,
    "is_executing": true
   },
   "id": "aa03f44a64c05641"
  },
  {
   "cell_type": "markdown",
   "source": [
    "# t * X = Y"
   ],
   "metadata": {
    "collapsed": false
   },
   "id": "2133e1af2cd501bd"
  },
  {
   "cell_type": "code",
   "execution_count": 269,
   "outputs": [],
   "source": [
    "def estimate_t(t_val):\n",
    "    # vec = np.array(jaccard_sequence_index(x_voltage_int_flatten * t_val, y_voltage_int_flatten))\n",
    "    # vec += 1 # [-1,1] -> [0,2]\n",
    "    # vec /= 2 # [0,2] -> [0,1]\n",
    "    # return np.linalg.norm(vec)\n",
    "    return np.mean(jaccard_sequence_index(x_voltage_int_flatten * t_val, y_voltage_int_flatten))\n",
    "vec_estimate_t = np.vectorize(estimate_t)"
   ],
   "metadata": {
    "collapsed": false,
    "ExecuteTime": {
     "end_time": "2024-12-03T20:46:17.617079700Z",
     "start_time": "2024-12-03T20:46:17.569081900Z"
    }
   },
   "id": "70fd603317431df4"
  },
  {
   "cell_type": "code",
   "execution_count": 216,
   "outputs": [],
   "source": [
    "def estimate_mod_t(t_val):\n",
    "    return jaccard_index(mode(x_voltage_int_flatten * t_val), mode(y_voltage_int_flatten))\n",
    "def estimate_med_p_t(t_val):\n",
    "    return jaccard_index(med_p(x_voltage_int_flatten * t_val), med_p(y_voltage_int_flatten))\n",
    "def estimate_med_k_t(t_val):\n",
    "    return jaccard_index(med_k(x_voltage_int_flatten * t_val), med_k(y_voltage_int_flatten))"
   ],
   "metadata": {
    "collapsed": false,
    "ExecuteTime": {
     "end_time": "2024-12-03T19:01:48.815536Z",
     "start_time": "2024-12-03T19:01:48.695408500Z"
    }
   },
   "id": "1f1ced1e13bc8cbc"
  },
  {
   "cell_type": "code",
   "execution_count": 217,
   "outputs": [],
   "source": [
    "vec_estimate_mod_t = np.vectorize(estimate_mod_t)\n",
    "vec_estimate_med_p_t = np.vectorize(estimate_med_k_t)\n",
    "vec_estimate_med_k_t = np.vectorize(estimate_med_p_t)"
   ],
   "metadata": {
    "collapsed": false,
    "ExecuteTime": {
     "end_time": "2024-12-03T19:01:48.815536Z",
     "start_time": "2024-12-03T19:01:48.700060800Z"
    }
   },
   "id": "14d3debe4991bb73"
  },
  {
   "cell_type": "code",
   "execution_count": 257,
   "outputs": [],
   "source": [
    "def process_data_t(point_data, a_data, show = True):\n",
    "    max_idx = np.argmax(point_data)\n",
    "    min_idx = np.argmin(point_data)\n",
    "    print(f\"max y: {point_data[max_idx]}\")\n",
    "    print(f\"min y: {point_data[min_idx]}\")\n",
    "    print(f\"t: {a_data[max_idx]}\")\n",
    "    plt.plot(a_data, point_data)\n",
    "    if show:\n",
    "        f1 = interp1d(np.array(point_data[0:max_idx + 1]), np.array(a_data[0:max_idx + 1]), kind = 'linear')\n",
    "        f2 = interp1d(np.array(point_data[max_idx:]), np.array(a_data[max_idx:]), kind = 'linear')\n",
    "        \n",
    "        internal_dot = (3 * point_data[max_idx] + point_data[min_idx])/ 4\n",
    "        print(f\"internal: {internal_dot}, x=[{f1(internal_dot)},{f2(internal_dot)}]\")\n",
    "        external_dot = (point_data[max_idx] + 3 * point_data[min_idx])/ 4\n",
    "        print(f\"external: {external_dot}, x=[{f1(external_dot)},{f2(external_dot)}]\")\n",
    "        plt.hlines(internal_dot, f1(internal_dot), f2(internal_dot), linestyles = 'dashed', label = 'internal', colors = 'green')\n",
    "        plt.hlines(external_dot, f1(external_dot), f2(external_dot), linestyles = 'dashed', label = 'external', colors = 'red')\n",
    "        plt.legend()"
   ],
   "metadata": {
    "collapsed": false,
    "ExecuteTime": {
     "end_time": "2024-12-03T20:36:26.721711700Z",
     "start_time": "2024-12-03T20:36:26.686590Z"
    }
   },
   "id": "1af84ce58884f03a"
  },
  {
   "cell_type": "markdown",
   "source": [
    "### Расширенные границы и количество итераций"
   ],
   "metadata": {
    "collapsed": false
   },
   "id": "e4cb49abe91a25f7"
  },
  {
   "cell_type": "code",
   "execution_count": 237,
   "outputs": [],
   "source": [
    "# t_bounds = [min(y_voltage_int_flatten, key=lambda x: med(x)) / max(x_voltage_int_flatten, key=lambda x: med(x)),\n",
    "#            max(y_voltage_int_flatten, key=lambda x: med(x)) / min(x_voltage_int_flatten, key=lambda x: med(x))]\n",
    "# t_bounds.sort()\n",
    "# t_bounds = [med(interval) for interval in t_bounds]\n",
    "# t_bounds[0] -= 0.05\n",
    "# t_bounds[1] += 0.05\n",
    "# print(t_bounds)"
   ],
   "metadata": {
    "collapsed": false,
    "ExecuteTime": {
     "end_time": "2024-12-03T19:10:48.330881500Z",
     "start_time": "2024-12-03T19:10:48.302350800Z"
    }
   },
   "id": "ddd0ef89d6e2bdf8"
  },
  {
   "cell_type": "code",
   "execution_count": 238,
   "outputs": [],
   "source": [
    "# iters = 300\n",
    "# t = np.linspace(t_bounds[0], t_bounds[1], iters)\n",
    "# print(f\"step: {np.abs(t_bounds[1] - t_bounds[0]) / iters}\")"
   ],
   "metadata": {
    "collapsed": false,
    "ExecuteTime": {
     "end_time": "2024-12-03T19:10:48.549853100Z",
     "start_time": "2024-12-03T19:10:48.512306Z"
    }
   },
   "id": "c86553dcb513c4aa"
  },
  {
   "cell_type": "code",
   "execution_count": 239,
   "outputs": [],
   "source": [
    "# data_med_p_t = vec_estimate_med_p_t(t)\n",
    "# data_med_k_t = vec_estimate_med_k_t(t)"
   ],
   "metadata": {
    "collapsed": false,
    "ExecuteTime": {
     "end_time": "2024-12-03T19:10:48.751276Z",
     "start_time": "2024-12-03T19:10:48.709034300Z"
    }
   },
   "id": "cc81cae87d725496"
  },
  {
   "cell_type": "code",
   "execution_count": 240,
   "outputs": [],
   "source": [
    "# data_t = vec_estimate(t)"
   ],
   "metadata": {
    "collapsed": false,
    "ExecuteTime": {
     "end_time": "2024-12-03T19:10:48.903074900Z",
     "start_time": "2024-12-03T19:10:48.880758Z"
    }
   },
   "id": "8c6038c95184fee8"
  },
  {
   "cell_type": "code",
   "execution_count": 241,
   "outputs": [],
   "source": [
    "# data_t = np.array([float(item) for item in data_t])\n",
    "# data_med_k_t = np.array([float(item) for item in data_med_k_t])\n",
    "# data_med_p_t = np.array([float(item) for item in data_med_p_t])"
   ],
   "metadata": {
    "collapsed": false,
    "ExecuteTime": {
     "end_time": "2024-12-03T19:10:49.121317Z",
     "start_time": "2024-12-03T19:10:49.067100Z"
    }
   },
   "id": "ab26534d358a73b"
  },
  {
   "cell_type": "code",
   "execution_count": 242,
   "outputs": [],
   "source": [
    "# plt.plot(t, data_t) "
   ],
   "metadata": {
    "collapsed": false,
    "ExecuteTime": {
     "end_time": "2024-12-03T19:10:49.233820900Z",
     "start_time": "2024-12-03T19:10:49.222060Z"
    }
   },
   "id": "59da0e3153a50af6"
  },
  {
   "cell_type": "code",
   "execution_count": 243,
   "outputs": [],
   "source": [
    "# print(np.argmax(data_t))\n",
    "# print(data_t[np.argmax(data_t)])\n",
    "# print(t[np.argmax(data_t)])"
   ],
   "metadata": {
    "collapsed": false,
    "ExecuteTime": {
     "end_time": "2024-12-03T19:10:49.368695300Z",
     "start_time": "2024-12-03T19:10:49.356250100Z"
    }
   },
   "id": "bd9ac2beb4f597"
  },
  {
   "cell_type": "code",
   "execution_count": 244,
   "outputs": [],
   "source": [
    "# process_data_t(data_med_k_t, t)"
   ],
   "metadata": {
    "collapsed": false,
    "ExecuteTime": {
     "end_time": "2024-12-03T19:10:49.526560200Z",
     "start_time": "2024-12-03T19:10:49.516629Z"
    }
   },
   "id": "b4c924d8b657567c"
  },
  {
   "cell_type": "code",
   "execution_count": 245,
   "outputs": [],
   "source": [
    "# process_data_t(data_med_p_t, t)"
   ],
   "metadata": {
    "collapsed": false,
    "ExecuteTime": {
     "end_time": "2024-12-03T19:10:49.697461100Z",
     "start_time": "2024-12-03T19:10:49.687287300Z"
    }
   },
   "id": "3a26f5959e4d26ea"
  },
  {
   "cell_type": "markdown",
   "source": [
    "### Стандартные размеры границ"
   ],
   "metadata": {
    "collapsed": false
   },
   "id": "a0c4402c93e885c9"
  },
  {
   "cell_type": "code",
   "execution_count": 246,
   "outputs": [
    {
     "name": "stdout",
     "output_type": "stream",
     "text": [
      "[-1.0509318748246474, -1.0073090554546673]\n"
     ]
    }
   ],
   "source": [
    "t_bounds = [min(y_voltage_int_flatten, key=lambda x: med(x)) / max(x_voltage_int_flatten, key=lambda x: med(x)),\n",
    "           max(y_voltage_int_flatten, key=lambda x: med(x)) / min(x_voltage_int_flatten, key=lambda x: med(x))]\n",
    "t_bounds.sort()\n",
    "t_bounds = [med(interval) for interval in t_bounds]\n",
    "print(t_bounds)"
   ],
   "metadata": {
    "collapsed": false,
    "ExecuteTime": {
     "end_time": "2024-12-03T19:10:50.136260200Z",
     "start_time": "2024-12-03T19:10:50.032256500Z"
    }
   },
   "id": "f77337e2c7641feb"
  },
  {
   "cell_type": "code",
   "execution_count": 247,
   "outputs": [
    {
     "name": "stdout",
     "output_type": "stream",
     "text": [
      "step: 0.0006231831338568591\n"
     ]
    }
   ],
   "source": [
    "iters = 70\n",
    "t = np.linspace(t_bounds[0], t_bounds[1], iters)\n",
    "print(f\"step: {np.abs(t_bounds[1] - t_bounds[0]) / iters}\")"
   ],
   "metadata": {
    "collapsed": false,
    "ExecuteTime": {
     "end_time": "2024-12-03T19:10:50.285273800Z",
     "start_time": "2024-12-03T19:10:50.235256500Z"
    }
   },
   "id": "facf882da63e8b70"
  },
  {
   "cell_type": "code",
   "execution_count": 248,
   "outputs": [],
   "source": [
    "data_med_p_t = vec_estimate_med_p_t(t)\n",
    "data_med_k_t = vec_estimate_med_k_t(t)"
   ],
   "metadata": {
    "collapsed": false,
    "ExecuteTime": {
     "end_time": "2024-12-03T19:13:11.851919400Z",
     "start_time": "2024-12-03T19:10:50.710783400Z"
    }
   },
   "id": "f408c944e06a97d"
  },
  {
   "cell_type": "code",
   "execution_count": 270,
   "outputs": [],
   "source": [
    "data_t = vec_estimate_t(t)"
   ],
   "metadata": {
    "collapsed": false,
    "ExecuteTime": {
     "end_time": "2024-12-03T20:46:44.233520500Z",
     "start_time": "2024-12-03T20:46:21.724493400Z"
    }
   },
   "id": "4e34cacb4e6cf67b"
  },
  {
   "cell_type": "code",
   "execution_count": 249,
   "outputs": [],
   "source": [
    "data_t = np.array([float(item) for item in data_t])\n",
    "data_med_k_t = np.array([float(item) for item in data_med_k_t])\n",
    "data_med_p_t = np.array([float(item) for item in data_med_p_t])"
   ],
   "metadata": {
    "collapsed": false,
    "ExecuteTime": {
     "end_time": "2024-12-03T19:13:11.887945100Z",
     "start_time": "2024-12-03T19:13:11.857475100Z"
    }
   },
   "id": "342b600730387d5c"
  },
  {
   "cell_type": "code",
   "execution_count": 271,
   "outputs": [
    {
     "name": "stdout",
     "output_type": "stream",
     "text": [
      "max y: -0.925693654215631494378457053315232982\n",
      "min y: -0.931535832160672780589799537796957455\n",
      "t: -1.0332298611672641\n"
     ]
    },
    {
     "data": {
      "text/plain": "<Figure size 640x480 with 1 Axes>",
      "image/png": "[encoded data removed]"
     },
     "metadata": {},
     "output_type": "display_data"
    }
   ],
   "source": [
    "process_data_t(data_t, t, False)"
   ],
   "metadata": {
    "collapsed": false,
    "ExecuteTime": {
     "end_time": "2024-12-03T20:47:09.145202100Z",
     "start_time": "2024-12-03T20:47:09.039239400Z"
    }
   },
   "id": "286183b43e2856a6"
  },
  {
   "cell_type": "code",
   "execution_count": 251,
   "outputs": [
    {
     "name": "stdout",
     "output_type": "stream",
     "text": [
      "28\n",
      "-0.9256936542156315\n",
      "-1.0332298611672641\n"
     ]
    }
   ],
   "source": [
    "print(np.argmax(data_t))\n",
    "print(data_t[np.argmax(data_t)])\n",
    "print(t[np.argmax(data_t)])"
   ],
   "metadata": {
    "collapsed": false,
    "ExecuteTime": {
     "end_time": "2024-12-03T19:13:11.889945200Z",
     "start_time": "2024-12-03T19:13:11.873927900Z"
    }
   },
   "id": "2f2fe47e0ee1f5d6"
  },
  {
   "cell_type": "code",
   "execution_count": 252,
   "outputs": [
    {
     "name": "stdout",
     "output_type": "stream",
     "text": [
      "max y: 0.8754691268198553\n",
      "min y: -0.9607121953830408\n",
      "t: -1.014263417962925\n",
      "internal: 0.4164237962691313, x=[-1.014639896134991,-1.0139206337934443]\n",
      "external: -0.5016668648323167, x=[-1.016519801447331,-1.0121102237277046]\n"
     ]
    },
    {
     "data": {
      "text/plain": "<Figure size 640x480 with 1 Axes>",
      "image/png": "[encoded data removed]"
     },
     "metadata": {},
     "output_type": "display_data"
    }
   ],
   "source": [
    "process_data_t(data_med_k_t, t)"
   ],
   "metadata": {
    "collapsed": false,
    "ExecuteTime": {
     "end_time": "2024-12-03T19:13:12.055179500Z",
     "start_time": "2024-12-03T19:13:11.880942Z"
    }
   },
   "id": "20cb2fca17059c"
  },
  {
   "cell_type": "code",
   "execution_count": 253,
   "outputs": [
    {
     "name": "stdout",
     "output_type": "stream",
     "text": [
      "max y: 0.8754691268199107\n",
      "min y: -0.9607121953830385\n",
      "t: -1.014263417962925\n",
      "internal: 0.41642379626917336, x=[-1.014639896134991,-1.0139206337934443]\n",
      "external: -0.5016668648323012, x=[-1.016519801447331,-1.0121102237277046]\n"
     ]
    },
    {
     "data": {
      "text/plain": "<Figure size 640x480 with 1 Axes>",
      "image/png": "[encoded data removed]"
     },
     "metadata": {},
     "output_type": "display_data"
    }
   ],
   "source": [
    "process_data_t(data_med_p_t, t)"
   ],
   "metadata": {
    "collapsed": false,
    "ExecuteTime": {
     "end_time": "2024-12-03T19:13:12.304217500Z",
     "start_time": "2024-12-03T19:13:12.055179500Z"
    }
   },
   "id": "bae54893dd33842c"
  }
 ],
 "metadata": {
  "kernelspec": {
   "display_name": "Python 3",
   "language": "python",
   "name": "python3"
  },
  "language_info": {
   "codemirror_mode": {
    "name": "ipython",
    "version": 2
   },
   "file_extension": ".py",
   "mimetype": "text/x-python",
   "name": "python",
   "nbconvert_exporter": "python",
   "pygments_lexer": "ipython2",
   "version": "2.7.6"
  }
 },
 "nbformat": 4,
 "nbformat_minor": 5
}
