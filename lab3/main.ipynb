{
 "cells": [
  {
   "cell_type": "code",
   "execution_count": 3,
   "id": "initial_id",
   "metadata": {
    "collapsed": true,
    "ExecuteTime": {
     "end_time": "2024-12-03T15:19:11.894056900Z",
     "start_time": "2024-12-03T15:19:10.915343Z"
    }
   },
   "outputs": [],
   "source": [
    "import struct\n",
    "import numpy as np\n",
    "import intvalpy as ip\n",
    "from functools import cmp_to_key\n",
    "import matplotlib.pyplot as plt"
   ]
  },
  {
   "cell_type": "code",
   "execution_count": 4,
   "outputs": [],
   "source": [
    "def read_bin_file_with_numpy(file_path):\n",
    "    with open(file_path, 'rb') as f:\n",
    "        header_data = f.read(256)\n",
    "        side, mode, frame_count = struct.unpack('<BBH', header_data[:4])\n",
    "\n",
    "        frames = []\n",
    "        point_dtype = np.dtype('<8H')\n",
    "\n",
    "        for _ in range(frame_count):\n",
    "            frame_header_data = f.read(16)\n",
    "            stop_point, timestamp = struct.unpack('<HL', frame_header_data[:6])\n",
    "            frame_data = np.frombuffer(f.read(1024 * 16), dtype=point_dtype)\n",
    "            frames.append(frame_data)\n",
    "\n",
    "        return np.array(frames)"
   ],
   "metadata": {
    "collapsed": false,
    "ExecuteTime": {
     "end_time": "2024-12-03T15:19:11.928988200Z",
     "start_time": "2024-12-03T15:19:11.894056900Z"
    }
   },
   "id": "2fa3ce8fb2472299"
  },
  {
   "cell_type": "code",
   "execution_count": 5,
   "outputs": [],
   "source": [
    "def convert_to_voltage(data):\n",
    "    return data / 16384.0 - 0.5\n",
    "\n",
    "\n",
    "def are_intersected(x, y):\n",
    "    sup = y.a if x.a < y.a else x.a\n",
    "    inf = x.b if x.b < y.b else y.b\n",
    "    return sup - inf <= 1e-15\n",
    "\n",
    "\n",
    "def are_adjusted_to_each_other(x, y):\n",
    "    return x.b == y.a or y.b == x.a\n",
    "\n",
    "\n",
    "def merge_intervals(x, y):\n",
    "    return ip.Interval(min(x.a, y.a), max(x.b, y.b))"
   ],
   "metadata": {
    "collapsed": false,
    "ExecuteTime": {
     "end_time": "2024-12-03T15:19:11.928988200Z",
     "start_time": "2024-12-03T15:19:11.912404600Z"
    }
   },
   "id": "d3ff9210ddbbca3d"
  },
  {
   "cell_type": "code",
   "execution_count": 6,
   "outputs": [],
   "source": [
    "def mode(x):\n",
    "    if len(x) == 0:\n",
    "        return []\n",
    "\n",
    "    edges = set()\n",
    "    for x_i in x:\n",
    "        edges.add(x_i.a)\n",
    "        edges.add(x_i.b)\n",
    "    edges = sorted(list(edges))\n",
    "\n",
    "    z = []\n",
    "    for index, a in enumerate(edges):\n",
    "        b = a if index == len(edges) - 1 else edges[index + 1]\n",
    "        z.append(ip.Interval(a, b))\n",
    "\n",
    "    mu = []\n",
    "    for z_i in z:\n",
    "        mu_i = 0\n",
    "        for x_i in x:\n",
    "            if z_i in x_i:\n",
    "                mu_i += 1\n",
    "        mu.append(mu_i)\n",
    "\n",
    "    max_mu = max(mu)\n",
    "    K = [index for index, element in enumerate(mu) if element == max_mu]\n",
    "\n",
    "    m = [z[k] for k in K]\n",
    "    merged_m = []\n",
    "\n",
    "    current_interval = m[0]\n",
    "\n",
    "    for next_interval in m[1:]:\n",
    "        if are_intersected(current_interval, next_interval) or are_adjusted_to_each_other(current_interval,\n",
    "                                                                                          next_interval):\n",
    "            current_interval = merge_intervals(current_interval, next_interval)\n",
    "        else:\n",
    "            merged_m.append(current_interval)\n",
    "            current_interval = next_interval\n",
    "\n",
    "    merged_m.append(current_interval)\n",
    "\n",
    "    if len(merged_m) == 1:\n",
    "        return merged_m[0]\n",
    "\n",
    "    return merged_m"
   ],
   "metadata": {
    "collapsed": false,
    "ExecuteTime": {
     "end_time": "2024-12-03T15:19:11.951465600Z",
     "start_time": "2024-12-03T15:19:11.919790500Z"
    }
   },
   "id": "90343d6b49766306"
  },
  {
   "cell_type": "code",
   "execution_count": 7,
   "outputs": [],
   "source": [
    "def med_k(x):\n",
    "    starts = [float(interval.a) for interval in x]\n",
    "    ends = [float(interval.b) for interval in x]\n",
    "    return ip.Interval(np.median(starts), np.median(ends))\n",
    "\n",
    "\n",
    "def med_p(x):\n",
    "    x = sorted(x, key=cmp_to_key(lambda x, y: (x.a + x.b) / 2 - (y.a + y.b) / 2))\n",
    "    mid = len(x) // 2\n",
    "\n",
    "    if len(x) % 2 == 0:\n",
    "        return (x[mid - 1] + x[mid]) / 2\n",
    "\n",
    "    return x[mid]"
   ],
   "metadata": {
    "collapsed": false,
    "ExecuteTime": {
     "end_time": "2024-12-03T15:19:11.951465600Z",
     "start_time": "2024-12-03T15:19:11.928988200Z"
    }
   },
   "id": "b18e834b82ec2478"
  },
  {
   "cell_type": "code",
   "execution_count": 8,
   "outputs": [],
   "source": [
    "def jaccard_sequence_index(x, y):\n",
    "    results = []\n",
    "\n",
    "    for x_i, y_i in zip(x, y):\n",
    "        result = (min(x_i.b, y_i.b) - max(x_i.a, y_i.a)) / (max(x_i.b, y_i.b) - min(x_i.a, y_i.a))\n",
    "        results.append(result)\n",
    "\n",
    "    return np.array(results)\n",
    "\n",
    "\n",
    "def jaccard_index(x, y):\n",
    "    return (min(x.b, y.b) - max(x.a, y.a)) / (max(x.b, y.b) - min(x.a, y.a))"
   ],
   "metadata": {
    "collapsed": false,
    "ExecuteTime": {
     "end_time": "2024-12-03T15:19:11.951465600Z",
     "start_time": "2024-12-03T15:19:11.938674900Z"
    }
   },
   "id": "44b69c411585ff55"
  },
  {
   "cell_type": "code",
   "execution_count": 9,
   "outputs": [],
   "source": [
    "def scalar_to_interval(x, rad):\n",
    "    return ip.Interval(x - rad, x + rad)\n",
    "\n",
    "\n",
    "def med(x):\n",
    "    return float((x.a + x.b) / 2)"
   ],
   "metadata": {
    "collapsed": false,
    "ExecuteTime": {
     "end_time": "2024-12-03T15:19:11.951465600Z",
     "start_time": "2024-12-03T15:19:11.945564600Z"
    }
   },
   "id": "35ffa8f9918031bb"
  },
  {
   "cell_type": "code",
   "execution_count": 10,
   "outputs": [],
   "source": [
    "scalar_to_interval_vec = np.vectorize(scalar_to_interval)\n",
    "x_data = read_bin_file_with_numpy('-0.205_lvl_side_a_fast_data.bin')\n",
    "y_data = read_bin_file_with_numpy('0.225_lvl_side_a_fast_data.bin')"
   ],
   "metadata": {
    "collapsed": false,
    "ExecuteTime": {
     "end_time": "2024-12-03T15:19:11.983840700Z",
     "start_time": "2024-12-03T15:19:11.951465600Z"
    }
   },
   "id": "9afd133dde7d4f65"
  },
  {
   "cell_type": "code",
   "execution_count": 11,
   "outputs": [],
   "source": [
    "x_voltage = convert_to_voltage(x_data)\n",
    "y_voltage = convert_to_voltage(y_data)"
   ],
   "metadata": {
    "collapsed": false,
    "ExecuteTime": {
     "end_time": "2024-12-03T15:19:12.039253300Z",
     "start_time": "2024-12-03T15:19:11.971226Z"
    }
   },
   "id": "3ba78efee8744aa7"
  },
  {
   "cell_type": "code",
   "execution_count": 12,
   "outputs": [],
   "source": [
    "N = -14\n",
    "rad = 2 ** N\n",
    "\n",
    "x_voltage_int = scalar_to_interval_vec(x_voltage, rad)\n",
    "y_voltage_int = scalar_to_interval_vec(y_voltage, rad)"
   ],
   "metadata": {
    "collapsed": false,
    "ExecuteTime": {
     "end_time": "2024-12-03T15:19:59.788117800Z",
     "start_time": "2024-12-03T15:19:11.983840700Z"
    }
   },
   "id": "b9d0661fff7a72e6"
  },
  {
   "cell_type": "code",
   "execution_count": 13,
   "outputs": [],
   "source": [
    "# x_voltage_int_flatten = x_voltage_int.flatten()\n",
    "# y_voltage_int_flatten = y_voltage_int.flatten()\n",
    "x_voltage_int_flatten = x_voltage_int[0].flatten()\n",
    "y_voltage_int_flatten = y_voltage_int[0].flatten()"
   ],
   "metadata": {
    "collapsed": false,
    "ExecuteTime": {
     "end_time": "2024-12-03T15:19:59.824709500Z",
     "start_time": "2024-12-03T15:19:59.788117800Z"
    }
   },
   "id": "f6bf5a52f186530b"
  },
  {
   "cell_type": "code",
   "execution_count": 60,
   "outputs": [
    {
     "name": "stdout",
     "output_type": "stream",
     "text": [
      "[-0.403076171875, -0.28497314453125]\n"
     ]
    }
   ],
   "source": [
    "a_bounds = [min(x_voltage_int_flatten, key=lambda x: med(x)) - max(y_voltage_int_flatten, key=lambda x: med(x)),\n",
    "           max(x_voltage_int_flatten, key=lambda x: med(x)) - min(y_voltage_int_flatten, key=lambda x: med(x))]\n",
    "a_bounds.sort()\n",
    "a_bounds = [med(interval) for interval in a_bounds]\n",
    "print(a_bounds)"
   ],
   "metadata": {
    "collapsed": false,
    "ExecuteTime": {
     "end_time": "2024-12-03T15:46:23.201734300Z",
     "start_time": "2024-12-03T15:46:23.108242300Z"
    }
   },
   "id": "7ce8057f9a6fb25d"
  },
  {
   "cell_type": "code",
   "execution_count": 61,
   "outputs": [],
   "source": [
    "iters = 70"
   ],
   "metadata": {
    "collapsed": false,
    "ExecuteTime": {
     "end_time": "2024-12-03T15:46:23.577635100Z",
     "start_time": "2024-12-03T15:46:23.571903700Z"
    }
   },
   "id": "f33e14ecb4debd14"
  },
  {
   "cell_type": "code",
   "execution_count": 62,
   "outputs": [
    {
     "name": "stdout",
     "output_type": "stream",
     "text": [
      "step: 0.0016871861049107143\n"
     ]
    }
   ],
   "source": [
    "a = np.linspace(a_bounds[0], a_bounds[1], iters)\n",
    "print(f\"step: {np.abs(a_bounds[1] - a_bounds[0]) / iters}\")"
   ],
   "metadata": {
    "collapsed": false,
    "ExecuteTime": {
     "end_time": "2024-12-03T15:46:29.906781Z",
     "start_time": "2024-12-03T15:46:29.903769600Z"
    }
   },
   "id": "bc6447e4e9bffac5"
  },
  {
   "cell_type": "code",
   "execution_count": 63,
   "outputs": [
    {
     "name": "stdout",
     "output_type": "stream",
     "text": [
      "(8192,)\n",
      "(8192,)\n"
     ]
    }
   ],
   "source": [
    "print(x_voltage_int_flatten.shape)\n",
    "print(y_voltage_int_flatten.shape)\n",
    "unprocessed_data = []\n",
    "def estimate(a_val):\n",
    "    vec = np.array(jaccard_sequence_index(x_voltage_int_flatten, y_voltage_int_flatten + a_val))\n",
    "    vec += 1 # [-1,1] -> [0,2]\n",
    "    vec /= 2 # [0,2] -> [0,1]\n",
    "    return np.linalg.norm(vec)\n",
    "vec_estimate = np.vectorize(estimate)\n",
    "\n",
    "data = vec_estimate(a)"
   ],
   "metadata": {
    "collapsed": false,
    "ExecuteTime": {
     "end_time": "2024-12-03T15:46:48.125065Z",
     "start_time": "2024-12-03T15:46:30.534209Z"
    }
   },
   "id": "ba788e9139ea360b"
  },
  {
   "cell_type": "code",
   "execution_count": 64,
   "outputs": [
    {
     "data": {
      "text/plain": "[<matplotlib.lines.Line2D at 0x2b41a16abd0>]"
     },
     "execution_count": 64,
     "metadata": {},
     "output_type": "execute_result"
    },
    {
     "data": {
      "text/plain": "<Figure size 640x480 with 1 Axes>",
      "image/png": "[encoded data removed]"
     },
     "metadata": {},
     "output_type": "display_data"
    }
   ],
   "source": [
    "plt.plot(a, data)"
   ],
   "metadata": {
    "collapsed": false,
    "ExecuteTime": {
     "end_time": "2024-12-03T15:46:48.236542Z",
     "start_time": "2024-12-03T15:46:48.124063100Z"
    }
   },
   "id": "4dc12783ea94d6f5"
  },
  {
   "cell_type": "code",
   "execution_count": 65,
   "outputs": [
    {
     "name": "stdout",
     "output_type": "stream",
     "text": [
      "35\n",
      "-0.34316883916440216\n"
     ]
    }
   ],
   "source": [
    "print(np.argmax(data))\n",
    "print(a[np.argmax(data)])"
   ],
   "metadata": {
    "collapsed": false,
    "ExecuteTime": {
     "end_time": "2024-12-03T15:46:48.261611400Z",
     "start_time": "2024-12-03T15:46:48.237456400Z"
    }
   },
   "id": "a38d8a765a98cdd1"
  },
  {
   "cell_type": "code",
   "execution_count": 66,
   "outputs": [],
   "source": [
    "def estimate_mod(a_val):\n",
    "    return jaccard_index(mode(x_voltage_int_flatten), mode(y_voltage_int_flatten + a_val))\n",
    "def estimate_med_p(a_val):\n",
    "    return jaccard_index(med_p(x_voltage_int_flatten), med_p(y_voltage_int_flatten + a_val))\n",
    "def estimate_med_k(a_val):\n",
    "    return jaccard_index(med_k(x_voltage_int_flatten), med_k(y_voltage_int_flatten + a_val))"
   ],
   "metadata": {
    "collapsed": false,
    "ExecuteTime": {
     "end_time": "2024-12-03T15:46:48.261611400Z",
     "start_time": "2024-12-03T15:46:48.245011100Z"
    }
   },
   "id": "5c56157d03cfa6cc"
  },
  {
   "cell_type": "code",
   "execution_count": 67,
   "outputs": [],
   "source": [
    "vec_estimate_mod = np.vectorize(estimate_mod)\n",
    "vec_estimate_med_p = np.vectorize(estimate_med_k)\n",
    "vec_estimate_med_k = np.vectorize(estimate_med_p)"
   ],
   "metadata": {
    "collapsed": false,
    "ExecuteTime": {
     "end_time": "2024-12-03T15:46:48.261611400Z",
     "start_time": "2024-12-03T15:46:48.251905700Z"
    }
   },
   "id": "b6f1afdae08cdced"
  },
  {
   "cell_type": "code",
   "execution_count": 68,
   "outputs": [],
   "source": [
    "data_med_p = vec_estimate_med_p(a)\n",
    "data_med_k = vec_estimate_med_k(a)"
   ],
   "metadata": {
    "collapsed": false,
    "ExecuteTime": {
     "end_time": "2024-12-03T15:48:16.099208500Z",
     "start_time": "2024-12-03T15:46:48.255612800Z"
    }
   },
   "id": "e146e61f1da33555"
  },
  {
   "cell_type": "markdown",
   "source": [
    "### Интерполированные данные"
   ],
   "metadata": {
    "collapsed": false
   },
   "id": "cbfe44734b7c26c0"
  },
  {
   "cell_type": "code",
   "execution_count": 69,
   "outputs": [],
   "source": [
    "from scipy.interpolate import interp1d\n",
    "data = np.array([float(item) for item in data])\n",
    "data_med_k = np.array([float(item) for item in data_med_k])\n",
    "data_med_p = np.array([float(item) for item in data_med_p])"
   ],
   "metadata": {
    "collapsed": false,
    "ExecuteTime": {
     "end_time": "2024-12-03T15:48:16.124621700Z",
     "start_time": "2024-12-03T15:48:16.100206400Z"
    }
   },
   "id": "2b124ad5bd6f61ab"
  },
  {
   "cell_type": "code",
   "execution_count": 70,
   "outputs": [],
   "source": [
    "def process_data(point_data, a_data):\n",
    "    max_idx = np.argmax(point_data)\n",
    "    min_idx = np.argmin(point_data)\n",
    "    print(f\"max y :{point_data[max_idx]}\")\n",
    "    print(f\"min y :{point_data[min_idx]}\")\n",
    "    print(f\"a :{a_data[max_idx]}\")\n",
    "    f1 = interp1d(np.array(point_data[0:max_idx + 1]), np.array(a_data[0:max_idx + 1]), kind = 'linear')\n",
    "    f2 = interp1d(np.array(point_data[max_idx:]), np.array(a_data[max_idx:]), kind = 'linear')\n",
    "    \n",
    "    plt.plot(a_data, point_data)\n",
    "    internal_dot = (3 * point_data[max_idx] + point_data[min_idx])/ 4\n",
    "    print(f\"internal:{internal_dot}, x=[{f1(internal_dot)},{f2(internal_dot)}]\")\n",
    "    external_dot = (point_data[max_idx] + 3 * point_data[min_idx])/ 4\n",
    "    print(f\"external:{external_dot}, x=[{f1(external_dot)},{f2(external_dot)}]\")\n",
    "    plt.hlines(internal_dot, f1(internal_dot), f2(internal_dot), linestyles = 'dashed', label = 'internal', colors = 'green')\n",
    "    plt.hlines(external_dot, f1(external_dot), f2(external_dot), linestyles = 'dashed', label = 'external', colors = 'red')\n",
    "    plt.legend()"
   ],
   "metadata": {
    "collapsed": false,
    "ExecuteTime": {
     "end_time": "2024-12-03T15:48:16.124621700Z",
     "start_time": "2024-12-03T15:48:16.108635800Z"
    }
   },
   "id": "e0048cb95c909f11"
  },
  {
   "cell_type": "code",
   "execution_count": 71,
   "outputs": [
    {
     "name": "stdout",
     "output_type": "stream",
     "text": [
      "max y :8.272689961243985\n",
      "min y :0.19861697750311144\n",
      "a :-0.34316883916440216\n",
      "internal:6.254171715308767, x=[-0.3561886416574156,-0.33050539056479133]\n",
      "external:2.21713522343833, x=[-0.37088553194356705,-0.3177467919733997]\n"
     ]
    },
    {
     "data": {
      "text/plain": "<Figure size 640x480 with 1 Axes>",
      "image/png": "[encoded data removed]"
     },
     "metadata": {},
     "output_type": "display_data"
    }
   ],
   "source": [
    "process_data(data, a)"
   ],
   "metadata": {
    "collapsed": false,
    "ExecuteTime": {
     "end_time": "2024-12-03T15:48:16.255845Z",
     "start_time": "2024-12-03T15:48:16.113465600Z"
    }
   },
   "id": "9f5f03930315a690"
  },
  {
   "cell_type": "code",
   "execution_count": 72,
   "outputs": [
    {
     "name": "stdout",
     "output_type": "stream",
     "text": [
      "max y :-0.5799086757990954\n",
      "min y :-0.9959016393442623\n",
      "a :-0.34316883916440216\n",
      "internal:-0.6839069166853872, x=[-0.3439029350526994,-0.3426012315040533]\n",
      "external:-0.8919033984579706, x=[-0.34608834256052484,-0.34146601618335565]\n"
     ]
    },
    {
     "data": {
      "text/plain": "<Figure size 640x480 with 1 Axes>",
      "image/png": "[encoded data removed]"
     },
     "metadata": {},
     "output_type": "display_data"
    }
   ],
   "source": [
    "process_data(data_med_k, a)"
   ],
   "metadata": {
    "collapsed": false,
    "ExecuteTime": {
     "end_time": "2024-12-03T15:48:16.364037Z",
     "start_time": "2024-12-03T15:48:16.234245700Z"
    }
   },
   "id": "9369ba9e5dc4791b"
  },
  {
   "cell_type": "code",
   "execution_count": 73,
   "outputs": [
    {
     "name": "stdout",
     "output_type": "stream",
     "text": [
      "max y :-0.5799086757990968\n",
      "min y :-0.9959016393442623\n",
      "a :-0.34316883916440216\n",
      "internal:-0.6839069166853882, x=[-0.3439029350526994,-0.3426012315040533]\n",
      "external:-0.891903398457971, x=[-0.34608834256052484,-0.34146601618335565]\n"
     ]
    },
    {
     "data": {
      "text/plain": "<Figure size 640x480 with 1 Axes>",
      "image/png": "[encoded data removed]"
     },
     "metadata": {},
     "output_type": "display_data"
    }
   ],
   "source": [
    "process_data(data_med_p, a)"
   ],
   "metadata": {
    "collapsed": false,
    "ExecuteTime": {
     "end_time": "2024-12-03T15:48:16.502626100Z",
     "start_time": "2024-12-03T15:48:16.344624500Z"
    }
   },
   "id": "4a69a563bef07507"
  },
  {
   "cell_type": "code",
   "execution_count": null,
   "outputs": [],
   "source": [
    "data_mod = vec_estimate_mod(a)\n",
    "data_mod = np.array([float(item) for item in data_mod])"
   ],
   "metadata": {
    "collapsed": false
   },
   "id": "a20cede86dc0e9e6"
  },
  {
   "cell_type": "code",
   "execution_count": null,
   "outputs": [],
   "source": [
    "process_data(data_mod, a)"
   ],
   "metadata": {
    "collapsed": false,
    "ExecuteTime": {
     "end_time": "2024-12-03T15:46:21.783088300Z",
     "start_time": "2024-12-03T15:46:21.783088300Z"
    }
   },
   "id": "aa03f44a64c05641"
  }
 ],
 "metadata": {
  "kernelspec": {
   "display_name": "Python 3",
   "language": "python",
   "name": "python3"
  },
  "language_info": {
   "codemirror_mode": {
    "name": "ipython",
    "version": 2
   },
   "file_extension": ".py",
   "mimetype": "text/x-python",
   "name": "python",
   "nbconvert_exporter": "python",
   "pygments_lexer": "ipython2",
   "version": "2.7.6"
  }
 },
 "nbformat": 4,
 "nbformat_minor": 5
}
